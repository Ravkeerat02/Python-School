{
  "nbformat": 4,
  "nbformat_minor": 0,
  "metadata": {
    "colab": {
      "name": "func_learn",
      "provenance": [],
      "authorship_tag": "ABX9TyPc4JQWVjeWpOcWaNCXhLDg",
      "include_colab_link": true
    },
    "kernelspec": {
      "name": "python3",
      "display_name": "Python 3"
    },
    "language_info": {
      "name": "python"
    }
  },
  "cells": [
    {
      "cell_type": "markdown",
      "metadata": {
        "id": "view-in-github",
        "colab_type": "text"
      },
      "source": [
        "<a href=\"https://colab.research.google.com/github/Ravkeerat02/py_labs/blob/main/func_learn.ipynb\" target=\"_parent\"><img src=\"https://colab.research.google.com/assets/colab-badge.svg\" alt=\"Open In Colab\"/></a>"
      ]
    },
    {
      "cell_type": "code",
      "execution_count": 11,
      "metadata": {
        "colab": {
          "base_uri": "https://localhost:8080/"
        },
        "id": "VYjAIoz4-lLT",
        "outputId": "1dba0ef8-0cd8-4fc4-9247-c0043ab12b18"
      },
      "outputs": [
        {
          "output_type": "stream",
          "name": "stdout",
          "text": [
            "{'Canada': 'Ottawa', 'USA': 'DC', 'UK': 'London', 'Japan': 'Tokyo', 'South Korea': 'Seoul'}\n",
            "5\n",
            "<class 'dict'>\n",
            "{'Canada': 'Ottawa', 'USA': 'DC', 'UK': 'London', 'Japan': 'Tokyo', 'South Korea': 'Seoul', 'India': 'New Delhi'}\n",
            "{'Canada': 'Ottawa', 'USA': 'DC', 'UK': 'London', 'Japan': 'Tokyo', 'South Korea': 'Seoul', 'India': 'New Delhi'}\n",
            "{'Canada': 'Ottawa', 'USA': 'DC', 'UK': 'London', 'Japan': 'Tokyo', 'South Korea': 'Seoul', 'India': 'New Delhi'}\n",
            "{'Canada': 'Ottawa', 'USA': 'DC', 'UK': 'London', 'Japan': 'Tokyo', 'South Korea': 'Seoul', 'India': 'New Delhi'}\n",
            "{'Canada': 'Ottawa', 'USA': 'DC', 'UK': 'London', 'Japan': 'Tokyo', 'South Korea': 'Seoul', 'India': 'New Delhi'}\n",
            "{'Canada': 'Ottawa', 'USA': 'DC', 'UK': 'London', 'Japan': 'Tokyo', 'South Korea': 'Seoul', 'India': 'New Delhi'}\n",
            "{'Canada': 'Ottawa', 'USA': 'DC', 'UK': 'London', 'Japan': 'Tokyo', 'South Korea': 'Seoul', 'India': 'New Delhi'}\n"
          ]
        }
      ],
      "source": [
        "world = {\n",
        "    \"Canada\": \"Ottawa\", \n",
        "    \"USA\" : \"DC\",\n",
        "    \"UK\": \"London\",\n",
        "    \"Japan\"  : \"Tokyo\",\n",
        "    \"South Korea\" : \"Seoul\"\n",
        "}\n",
        "\n",
        "print(world)\n",
        "print(len(world))\n",
        "print(type(world))\n",
        "world.update({\"India\":\"New Delhi\"})\n",
        "print(world)\n",
        "\n",
        "for y in world:\n",
        "  print(world)"
      ]
    },
    {
      "cell_type": "code",
      "source": [
        "#condition \n",
        "age = 2002; \n",
        "year = 21;\n",
        "\n",
        "if age == year :\n",
        "  print(\"You are 20 yrs old\")\n",
        "elif age <= year:\n",
        "  print(\"You are still 20 yrs old\")\n",
        "else:\n",
        "  print(\"You dont come under this group\")\n",
        "\n",
        "\n"
      ],
      "metadata": {
        "colab": {
          "base_uri": "https://localhost:8080/"
        },
        "id": "EbY5JbfQ_v4m",
        "outputId": "9f69f976-12f8-4418-813a-ebee7e698a63"
      },
      "execution_count": 13,
      "outputs": [
        {
          "output_type": "stream",
          "name": "stdout",
          "text": [
            "You dont come under this group\n"
          ]
        }
      ]
    },
    {
      "cell_type": "code",
      "source": [
        "#and \n",
        "\n",
        "x = 1000 \n",
        "y = 1000\n",
        "z=1000\n",
        "\n",
        "if x <= y and y == z:\n",
        "  print(\"There is something fishy\")"
      ],
      "metadata": {
        "colab": {
          "base_uri": "https://localhost:8080/"
        },
        "id": "WjZgMqzPCZd7",
        "outputId": "3beef4da-b868-44fc-b7aa-91eed55722ea"
      },
      "execution_count": 18,
      "outputs": [
        {
          "output_type": "stream",
          "name": "stdout",
          "text": [
            "There is something fishy\n"
          ]
        }
      ]
    },
    {
      "cell_type": "code",
      "source": [
        "#while loop \n",
        "\n",
        "i = 15\n",
        "while i < 1001:\n",
        "  print(i)\n",
        "  i += 10"
      ],
      "metadata": {
        "colab": {
          "base_uri": "https://localhost:8080/"
        },
        "id": "4MtN9YACC6Ih",
        "outputId": "c4e3f67b-f87f-4d90-f635-9c455b1ff874"
      },
      "execution_count": 24,
      "outputs": [
        {
          "output_type": "stream",
          "name": "stdout",
          "text": [
            "15\n",
            "25\n",
            "35\n",
            "45\n",
            "55\n",
            "65\n",
            "75\n",
            "85\n",
            "95\n",
            "105\n",
            "115\n",
            "125\n",
            "135\n",
            "145\n",
            "155\n",
            "165\n",
            "175\n",
            "185\n",
            "195\n",
            "205\n",
            "215\n",
            "225\n",
            "235\n",
            "245\n",
            "255\n",
            "265\n",
            "275\n",
            "285\n",
            "295\n",
            "305\n",
            "315\n",
            "325\n",
            "335\n",
            "345\n",
            "355\n",
            "365\n",
            "375\n",
            "385\n",
            "395\n",
            "405\n",
            "415\n",
            "425\n",
            "435\n",
            "445\n",
            "455\n",
            "465\n",
            "475\n",
            "485\n",
            "495\n",
            "505\n",
            "515\n",
            "525\n",
            "535\n",
            "545\n",
            "555\n",
            "565\n",
            "575\n",
            "585\n",
            "595\n",
            "605\n",
            "615\n",
            "625\n",
            "635\n",
            "645\n",
            "655\n",
            "665\n",
            "675\n",
            "685\n",
            "695\n",
            "705\n",
            "715\n",
            "725\n",
            "735\n",
            "745\n",
            "755\n",
            "765\n",
            "775\n",
            "785\n",
            "795\n",
            "805\n",
            "815\n",
            "825\n",
            "835\n",
            "845\n",
            "855\n",
            "865\n",
            "875\n",
            "885\n",
            "895\n",
            "905\n",
            "915\n",
            "925\n",
            "935\n",
            "945\n",
            "955\n",
            "965\n",
            "975\n",
            "985\n",
            "995\n"
          ]
        }
      ]
    },
    {
      "cell_type": "code",
      "source": [
        "#continue - stops the current iteration and jumps to next\n",
        "\n",
        "i = 2\n",
        "while i < 20:\n",
        "  i += 3\n",
        "  if i == 4:\n",
        "    continue\n",
        "  print(i)"
      ],
      "metadata": {
        "colab": {
          "base_uri": "https://localhost:8080/"
        },
        "id": "pN9-B1e9DU1k",
        "outputId": "f6906b5c-81ae-4933-8819-c7d60f764337"
      },
      "execution_count": 27,
      "outputs": [
        {
          "output_type": "stream",
          "name": "stdout",
          "text": [
            "5\n",
            "8\n",
            "11\n",
            "14\n",
            "17\n",
            "20\n"
          ]
        }
      ]
    },
    {
      "cell_type": "code",
      "source": [
        "# function \n",
        "def fruits(food):\n",
        "  for x in food:\n",
        "    print(x)\n",
        "\n",
        "fruit = [\"apple\",\"banana\",\"new\",\"no clue\"]\n",
        "fruits(fruit)\n",
        "\n"
      ],
      "metadata": {
        "colab": {
          "base_uri": "https://localhost:8080/"
        },
        "id": "mhpRDn7sD1bI",
        "outputId": "042acdc1-080b-42e5-df30-fadf7b7d2629"
      },
      "execution_count": 32,
      "outputs": [
        {
          "output_type": "stream",
          "name": "stdout",
          "text": [
            "apple\n",
            "banana\n",
            "new\n",
            "no clue\n"
          ]
        }
      ]
    },
    {
      "cell_type": "code",
      "source": [
        "#lambda - small anonymous func\n",
        "# takes multiple arg , but only one expression \n",
        "\n",
        "z = lambda a,b,c : (a*b) + c\n",
        "print(z(15,20,25))\n",
        "l = lambda a,b,c : (a/b) + (c/b)\n",
        "print(l(150,200,500))\n",
        "\n"
      ],
      "metadata": {
        "colab": {
          "base_uri": "https://localhost:8080/"
        },
        "id": "csZVPWMgE01t",
        "outputId": "05356645-c719-45d0-e894-bccf5b899971"
      },
      "execution_count": 34,
      "outputs": [
        {
          "output_type": "stream",
          "name": "stdout",
          "text": [
            "325\n",
            "3.25\n"
          ]
        }
      ]
    },
    {
      "cell_type": "code",
      "source": [
        "#casting \n",
        "#int - will round down \n",
        "# example - 2.8 - will be printed as 2 \n",
        "#float - will return the same - with decimal digit\n"
      ],
      "metadata": {
        "id": "XJHaOEhvFKP2"
      },
      "execution_count": null,
      "outputs": []
    }
  ]
}